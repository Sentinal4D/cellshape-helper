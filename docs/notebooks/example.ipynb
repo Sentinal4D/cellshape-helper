{
 "cells": [
  {
   "cell_type": "code",
   "execution_count": null,
   "metadata": {
    "pycharm": {
     "name": "#%%\n"
    }
   },
   "outputs": [],
   "source": [
    "import cellshape_helper as helper\n",
    "\n",
    "\n",
    "PATH_TO_TIF_FILES = (\n",
    "    \"/home/mvries/Documents/Datasets/OPM/VickyPlates/Plate2/stacked/\"\n",
    ")\n",
    "PATH_TO_SAVE_MESH = \"/home/mvries/Documents/Datasets/OPM/VickyPlates/Plate2/stacked_off/raw/Cells/\"\n",
    "PATH_TO_SAVE_PC = \"/home/mvries/Documents/Datasets/OPM/VickyPlates/Plate2/stacked_pointcloud/Cells/\"\n",
    "NUM_POINTS = 2048\n",
    "\n",
    "helper.tif_to_pc_directory(\n",
    "    PATH_TO_TIF_FILES, PATH_TO_SAVE_MESH, PATH_TO_SAVE_PC, NUM_POINTS\n",
    ")"
   ]
  },
  {
   "cell_type": "code",
   "execution_count": 3,
   "metadata": {
    "pycharm": {
     "name": "#%%\n"
    }
   },
   "outputs": [
    {
     "name": "stderr",
     "output_type": "stream",
     "text": [
      " 20%|██        | 5493/27149 [05:38<22:15, 16.22it/s]\n"
     ]
    },
    {
     "ename": "OSError",
     "evalue": "2048 requested and 331 written",
     "output_type": "error",
     "traceback": [
      "\u001B[0;31m---------------------------------------------------------------------------\u001B[0m",
      "\u001B[0;31mOSError\u001B[0m                                   Traceback (most recent call last)",
      "\u001B[0;32m<ipython-input-3-4d9be7579144>\u001B[0m in \u001B[0;36m<module>\u001B[0;34m\u001B[0m\n\u001B[1;32m      9\u001B[0m \u001B[0mNUM_POINTS\u001B[0m \u001B[0;34m=\u001B[0m \u001B[0;36m2048\u001B[0m\u001B[0;34m\u001B[0m\u001B[0;34m\u001B[0m\u001B[0m\n\u001B[1;32m     10\u001B[0m \u001B[0;34m\u001B[0m\u001B[0m\n\u001B[0;32m---> 11\u001B[0;31m \u001B[0mhelper\u001B[0m\u001B[0;34m.\u001B[0m\u001B[0mmesh_to_pc\u001B[0m\u001B[0;34m(\u001B[0m\u001B[0mPATH_TO_SAVE_MESH\u001B[0m\u001B[0;34m,\u001B[0m \u001B[0mNUM_POINTS\u001B[0m\u001B[0;34m,\u001B[0m \u001B[0mPATH_TO_SAVE_PC\u001B[0m\u001B[0;34m)\u001B[0m\u001B[0;34m\u001B[0m\u001B[0;34m\u001B[0m\u001B[0m\n\u001B[0m",
      "\u001B[0;32m~/anaconda3/envs/dcc/lib/python3.8/site-packages/cellshape_helper/conversions.py\u001B[0m in \u001B[0;36mmesh_to_pc\u001B[0;34m(mesh_directory, num_points, save_dir)\u001B[0m\n\u001B[1;32m     38\u001B[0m         \u001B[0mfile_name\u001B[0m \u001B[0;34m=\u001B[0m \u001B[0msplit_string\u001B[0m\u001B[0;34m[\u001B[0m\u001B[0;36m0\u001B[0m\u001B[0;34m]\u001B[0m\u001B[0;34m\u001B[0m\u001B[0;34m\u001B[0m\u001B[0m\n\u001B[1;32m     39\u001B[0m         \u001B[0mcloud\u001B[0m \u001B[0;34m=\u001B[0m \u001B[0mPyntCloud\u001B[0m\u001B[0;34m(\u001B[0m\u001B[0mpd\u001B[0m\u001B[0;34m.\u001B[0m\u001B[0mDataFrame\u001B[0m\u001B[0;34m(\u001B[0m\u001B[0mdata\u001B[0m\u001B[0;34m=\u001B[0m\u001B[0mpoints\u001B[0m\u001B[0;34m,\u001B[0m \u001B[0mcolumns\u001B[0m\u001B[0;34m=\u001B[0m\u001B[0;34m[\u001B[0m\u001B[0;34m\"x\"\u001B[0m\u001B[0;34m,\u001B[0m \u001B[0;34m\"y\"\u001B[0m\u001B[0;34m,\u001B[0m \u001B[0;34m\"z\"\u001B[0m\u001B[0;34m]\u001B[0m\u001B[0;34m)\u001B[0m\u001B[0;34m)\u001B[0m\u001B[0;34m\u001B[0m\u001B[0;34m\u001B[0m\u001B[0m\n\u001B[0;32m---> 40\u001B[0;31m         \u001B[0mcloud\u001B[0m\u001B[0;34m.\u001B[0m\u001B[0mto_file\u001B[0m\u001B[0;34m(\u001B[0m\u001B[0msave_to_points_path\u001B[0m \u001B[0;34m+\u001B[0m \u001B[0mfile_name\u001B[0m \u001B[0;34m+\u001B[0m \u001B[0;34m\".ply\"\u001B[0m\u001B[0;34m)\u001B[0m\u001B[0;34m\u001B[0m\u001B[0;34m\u001B[0m\u001B[0m\n\u001B[0m\u001B[1;32m     41\u001B[0m \u001B[0;34m\u001B[0m\u001B[0m\n\u001B[1;32m     42\u001B[0m \u001B[0;34m\u001B[0m\u001B[0m\n",
      "\u001B[0;32m~/.local/lib/python3.8/site-packages/pyntcloud/core_class.py\u001B[0m in \u001B[0;36mto_file\u001B[0;34m(self, filename, also_save, **kwargs)\u001B[0m\n\u001B[1;32m    180\u001B[0m                 \u001B[0mkwargs\u001B[0m\u001B[0;34m[\u001B[0m\u001B[0mx\u001B[0m\u001B[0;34m]\u001B[0m \u001B[0;34m=\u001B[0m \u001B[0mgetattr\u001B[0m\u001B[0;34m(\u001B[0m\u001B[0mself\u001B[0m\u001B[0;34m,\u001B[0m \u001B[0mx\u001B[0m\u001B[0;34m)\u001B[0m\u001B[0;34m\u001B[0m\u001B[0;34m\u001B[0m\u001B[0m\n\u001B[1;32m    181\u001B[0m \u001B[0;34m\u001B[0m\u001B[0m\n\u001B[0;32m--> 182\u001B[0;31m         \u001B[0mTO_FILE\u001B[0m\u001B[0;34m[\u001B[0m\u001B[0mext\u001B[0m\u001B[0;34m]\u001B[0m\u001B[0;34m(\u001B[0m\u001B[0;34m**\u001B[0m\u001B[0mkwargs\u001B[0m\u001B[0;34m)\u001B[0m\u001B[0;34m\u001B[0m\u001B[0;34m\u001B[0m\u001B[0m\n\u001B[0m\u001B[1;32m    183\u001B[0m \u001B[0;34m\u001B[0m\u001B[0m\n\u001B[1;32m    184\u001B[0m     \u001B[0;32mdef\u001B[0m \u001B[0mto_instance\u001B[0m\u001B[0;34m(\u001B[0m\u001B[0mself\u001B[0m\u001B[0;34m,\u001B[0m \u001B[0mlibrary\u001B[0m\u001B[0;34m,\u001B[0m \u001B[0;34m**\u001B[0m\u001B[0mkwargs\u001B[0m\u001B[0;34m)\u001B[0m\u001B[0;34m:\u001B[0m\u001B[0;34m\u001B[0m\u001B[0;34m\u001B[0m\u001B[0m\n",
      "\u001B[0;32m~/.local/lib/python3.8/site-packages/pyntcloud/io/ply.py\u001B[0m in \u001B[0;36mwrite_ply\u001B[0;34m(filename, points, mesh, as_text, comments)\u001B[0m\n\u001B[1;32m    230\u001B[0m         \u001B[0;32mwith\u001B[0m \u001B[0mopen\u001B[0m\u001B[0;34m(\u001B[0m\u001B[0mfilename\u001B[0m\u001B[0;34m,\u001B[0m \u001B[0;34m'ab'\u001B[0m\u001B[0;34m)\u001B[0m \u001B[0;32mas\u001B[0m \u001B[0mply\u001B[0m\u001B[0;34m:\u001B[0m\u001B[0;34m\u001B[0m\u001B[0;34m\u001B[0m\u001B[0m\n\u001B[1;32m    231\u001B[0m             \u001B[0;32mif\u001B[0m \u001B[0mpoints\u001B[0m \u001B[0;32mis\u001B[0m \u001B[0;32mnot\u001B[0m \u001B[0;32mNone\u001B[0m\u001B[0;34m:\u001B[0m\u001B[0;34m\u001B[0m\u001B[0;34m\u001B[0m\u001B[0m\n\u001B[0;32m--> 232\u001B[0;31m                 \u001B[0mpoints\u001B[0m\u001B[0;34m.\u001B[0m\u001B[0mto_records\u001B[0m\u001B[0;34m(\u001B[0m\u001B[0mindex\u001B[0m\u001B[0;34m=\u001B[0m\u001B[0;32mFalse\u001B[0m\u001B[0;34m)\u001B[0m\u001B[0;34m.\u001B[0m\u001B[0mtofile\u001B[0m\u001B[0;34m(\u001B[0m\u001B[0mply\u001B[0m\u001B[0;34m)\u001B[0m\u001B[0;34m\u001B[0m\u001B[0;34m\u001B[0m\u001B[0m\n\u001B[0m\u001B[1;32m    233\u001B[0m             \u001B[0;32mif\u001B[0m \u001B[0mmesh\u001B[0m \u001B[0;32mis\u001B[0m \u001B[0;32mnot\u001B[0m \u001B[0;32mNone\u001B[0m\u001B[0;34m:\u001B[0m\u001B[0;34m\u001B[0m\u001B[0;34m\u001B[0m\u001B[0m\n\u001B[1;32m    234\u001B[0m                 \u001B[0mmesh\u001B[0m\u001B[0;34m.\u001B[0m\u001B[0mto_records\u001B[0m\u001B[0;34m(\u001B[0m\u001B[0mindex\u001B[0m\u001B[0;34m=\u001B[0m\u001B[0;32mFalse\u001B[0m\u001B[0;34m)\u001B[0m\u001B[0;34m.\u001B[0m\u001B[0mtofile\u001B[0m\u001B[0;34m(\u001B[0m\u001B[0mply\u001B[0m\u001B[0;34m)\u001B[0m\u001B[0;34m\u001B[0m\u001B[0;34m\u001B[0m\u001B[0m\n",
      "\u001B[0;31mOSError\u001B[0m: 2048 requested and 331 written"
     ]
    }
   ],
   "source": [
    "import cellshape_helper as helper\n",
    "\n",
    "\n",
    "PATH_TO_TIF_FILES = (\n",
    "    \"/home/mvries/Documents/Datasets/OPM/VickyPlates_010922/Plate2/stacked/\"\n",
    ")\n",
    "PATH_TO_SAVE_MESH = \"/home/mvries/Documents/Datasets/OPM/VickyPlates_010922/Plate2/stacked_off/raw/\"\n",
    "PATH_TO_SAVE_PC = \"/home/mvries/Documents/Datasets/OPM/VickyPlates_010922/Plate2/stacked_pointcloud/Cells/\"\n",
    "NUM_POINTS = 2048\n",
    "\n",
    "helper.mesh_to_pc(PATH_TO_SAVE_MESH, NUM_POINTS, PATH_TO_SAVE_PC)"
   ]
  },
  {
   "cell_type": "code",
   "execution_count": null,
   "metadata": {
    "pycharm": {
     "name": "#%%\n"
    }
   },
   "outputs": [],
   "source": []
  }
 ],
 "metadata": {
  "kernelspec": {
   "display_name": "Python 3",
   "language": "python",
   "name": "python3"
  },
  "language_info": {
   "codemirror_mode": {
    "name": "ipython",
    "version": 3
   },
   "file_extension": ".py",
   "mimetype": "text/x-python",
   "name": "python",
   "nbconvert_exporter": "python",
   "pygments_lexer": "ipython3",
   "version": "3.8.2"
  }
 },
 "nbformat": 4,
 "nbformat_minor": 1
}