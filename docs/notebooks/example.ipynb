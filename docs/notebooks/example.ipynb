{
 "cells": [
  {
   "cell_type": "code",
   "execution_count": null,
   "metadata": {
    "pycharm": {
     "name": "#%%\n"
    }
   },
   "outputs": [],
   "source": [
    "import cellshape_helper as helper\n",
    "\n",
    "\n",
    "PATH_TO_TIF_FILES = (\n",
    "    \"/home/mvries/Documents/Datasets/OPM/VickyPlates/Plate2/stacked/\"\n",
    ")\n",
    "PATH_TO_SAVE_MESH = \"/home/mvries/Documents/Datasets/OPM/VickyPlates/Plate2/stacked_off/raw/Cells/\"\n",
    "PATH_TO_SAVE_PC = \"/home/mvries/Documents/Datasets/OPM/VickyPlates/Plate2/stacked_pointcloud/Cells/\"\n",
    "NUM_POINTS = 2048\n",
    "\n",
    "helper.tif_to_pc_directory(\n",
    "    PATH_TO_TIF_FILES, PATH_TO_SAVE_MESH, PATH_TO_SAVE_PC, NUM_POINTS\n",
    ")"
   ]
  },
  {
   "cell_type": "code",
   "execution_count": null,
   "metadata": {
    "pycharm": {
     "name": "#%%\n"
    }
   },
   "outputs": [
    {
     "name": "stderr",
     "output_type": "stream",
     "text": [
      " 16%|█▌        | 4369/27149 [04:28<26:51, 14.14it/s]"
     ]
    }
   ],
   "source": [
    "import cellshape_helper as helper\n",
    "\n",
    "\n",
    "PATH_TO_TIF_FILES = (\n",
    "    \"/home/mvries/Documents/Datasets/OPM/VickyPlates_010922/Plate2/stacked/\"\n",
    ")\n",
    "PATH_TO_SAVE_MESH = \"/home/mvries/Documents/Datasets/OPM/VickyPlates_010922/Plate2/stacked_off/raw/\"\n",
    "PATH_TO_SAVE_PC = \"/home/mvries/Documents/Datasets/OPM/VickyPlates_010922/Plate2/stacked_pointcloud/Cells/\"\n",
    "NUM_POINTS = 2048\n",
    "\n",
    "helper.mesh_to_pc(PATH_TO_SAVE_MESH, NUM_POINTS, PATH_TO_SAVE_PC)"
   ]
  },
  {
   "cell_type": "code",
   "execution_count": null,
   "metadata": {
    "pycharm": {
     "name": "#%%\n"
    }
   },
   "outputs": [],
   "source": []
  }
 ],
 "metadata": {
  "kernelspec": {
   "display_name": "Python 3",
   "language": "python",
   "name": "python3"
  },
  "language_info": {
   "codemirror_mode": {
    "name": "ipython",
    "version": 3
   },
   "file_extension": ".py",
   "mimetype": "text/x-python",
   "name": "python",
   "nbconvert_exporter": "python",
   "pygments_lexer": "ipython3",
   "version": "3.8.2"
  }
 },
 "nbformat": 4,
 "nbformat_minor": 1
}