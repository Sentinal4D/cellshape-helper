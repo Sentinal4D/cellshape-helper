{
 "cells": [
  {
   "cell_type": "code",
   "execution_count": 1,
   "metadata": {
    "pycharm": {
     "name": "#%%\n"
    }
   },
   "outputs": [
    {
     "name": "stderr",
     "output_type": "stream",
     "text": [
      "100%|██████████| 20642/20642 [08:39<00:00, 39.70it/s]\n",
      "100%|██████████| 20642/20642 [18:50<00:00, 18.25it/s]\n"
     ]
    }
   ],
   "source": [
    "import cellshape_helper as helper\n",
    "\n",
    "path = \"/home/mvries/Documents/Datasets/OPM/VickyPlates_010922/Plate1/\"\n",
    "\n",
    "PATH_TO_TIF_FILES = (\n",
    "    path + \"stacked/\"\n",
    ")\n",
    "PATH_TO_SAVE_MESH = path + \"stacked_off/\"\n",
    "PATH_TO_SAVE_PC = path + \"stacked_pointcloud/\"\n",
    "NUM_POINTS = 2048\n",
    "\n",
    "helper.tif_to_pc_directory(\n",
    "    PATH_TO_TIF_FILES, PATH_TO_SAVE_MESH, PATH_TO_SAVE_PC, NUM_POINTS\n",
    ")"
   ]
  },
  {
   "cell_type": "code",
   "execution_count": 1,
   "metadata": {
    "pycharm": {
     "name": "#%%\n"
    }
   },
   "outputs": [
    {
     "name": "stderr",
     "output_type": "stream",
     "text": [
      "100%|██████████| 27149/27149 [11:55<00:00, 37.94it/s]\n",
      "100%|██████████| 27149/27149 [27:22<00:00, 16.53it/s]\n"
     ]
    }
   ],
   "source": [
    "import cellshape_helper as helper\n",
    "\n",
    "path = \"/home/mvries/Documents/Datasets/OPM/VickyPlates_010922/Plate2/\"\n",
    "\n",
    "PATH_TO_TIF_FILES = (\n",
    "    path + \"stacked/\"\n",
    ")\n",
    "PATH_TO_SAVE_MESH = path + \"stacked_off/\"\n",
    "PATH_TO_SAVE_PC = path + \"stacked_pointcloud/\"\n",
    "NUM_POINTS = 2048\n",
    "\n",
    "helper.tif_to_pc_directory(\n",
    "    PATH_TO_TIF_FILES, PATH_TO_SAVE_MESH, PATH_TO_SAVE_PC, NUM_POINTS\n",
    ")"
   ]
  },
  {
   "cell_type": "code",
   "execution_count": null,
   "metadata": {
    "pycharm": {
     "name": "#%%\n"
    }
   },
   "outputs": [],
   "source": []
  }
 ],
 "metadata": {
  "kernelspec": {
   "display_name": "Python 3",
   "language": "python",
   "name": "python3"
  },
  "language_info": {
   "codemirror_mode": {
    "name": "ipython",
    "version": 3
   },
   "file_extension": ".py",
   "mimetype": "text/x-python",
   "name": "python",
   "nbconvert_exporter": "python",
   "pygments_lexer": "ipython3",
   "version": "3.8.2"
  }
 },
 "nbformat": 4,
 "nbformat_minor": 1
}
