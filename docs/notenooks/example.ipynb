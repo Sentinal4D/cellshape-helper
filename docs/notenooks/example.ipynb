{
 "cells": [
  {
   "cell_type": "code",
   "execution_count": 21,
   "metadata": {},
   "outputs": [
    {
     "name": "stderr",
     "output_type": "stream",
     "text": [
      "100%|██████████████████████████████████████████| 43/43 [00:00<00:00, 173.82it/s]\n",
      "100%|██████████████████████████████████████████| 43/43 [00:00<00:00, 165.92it/s]\n"
     ]
    }
   ],
   "source": [
    "from cellshape_helper.vendor.pytorch_geometric_files import read_off, sample_points\n",
    "from pyntcloud import PyntCloud\n",
    "import pandas as pd\n",
    "from tifffile import imread\n",
    "import trimesh\n",
    "from skimage.measure import marching_cubes\n",
    "from tqdm import tqdm\n",
    "from cellshape_helper.util import create_dir_if_not_exist\n",
    "from pathlib import Path\n",
    "\n",
    "def tif_to_mesh(tif_directory, save_directory):\n",
    "    p = Path(tif_directory)\n",
    "    files = list(p.glob(\"*.tif\"))\n",
    "    for tif_file in tqdm(files):\n",
    "        try:\n",
    "            tif_file_path = Path(tif_file)\n",
    "            img = imread(tif_file)\n",
    "            vertices, faces, normals, values = marching_cubes(img)\n",
    "            mesh_obj = trimesh.Trimesh(....................................................\n",
    "                vertices=vertices, faces=faces, process=False\n",
    "            )\n",
    "            save_to_mesh_path = save_directory\n",
    "            create_dir_if_not_exist(save_to_mesh_path)\n",
    "        # split_string = tif_file_path.name.split(\".\")\n",
    "        # file_name = split_string[0]\n",
    "            file_name = tif_file_path.name[:-4]\n",
    "            mesh_obj.export(save_to_mesh_path + file_name + \".off\")\n",
    "\n",
    "        except:\n",
    "            continue\n",
    "\n",
    "def mesh_to_pc(mesh_directory, num_points, save_dir):\n",
    "    p = Path(mesh_directory)\n",
    "    files = list(p.glob(\"*.off\"))\n",
    "    for mesh_file in tqdm(files):\n",
    "        mesh_file_path = Path(mesh_file)\n",
    "        data = read_off(mesh_file)\n",
    "        # changed to .numpy() to avoid issue with pyntcloud\n",
    "        points = sample_points(data=data, num=num_points).numpy()\n",
    "        save_to_points_path = save_dir\n",
    "        create_dir_if_not_exist(save_to_points_path)\n",
    "        # split_string = mesh_file_path.name.split(\".\")\n",
    "        # file_name = split_string[0]\n",
    "        file_name = mesh_file_path.name[:-4]\n",
    "        cloud = PyntCloud(pd.DataFrame(data=points, columns=[\"x\", \"y\", \"z\"]))\n",
    "        cloud.to_file(save_to_points_path + file_name + \".ply\")\n",
    "\n",
    "\n",
    "def tif_to_pc_directory(tif_directory, save_mesh, save_points, num_points):\n",
    "    tif_to_mesh(tif_directory, save_mesh)\n",
    "    mesh_to_pc(save_mesh, num_points, save_points)\n",
    "\n",
    "\n",
    "PATH_TO_TIF_FILES = (\n",
    "    \"/home/mvries/Documents/Datasets/MedMNIST/vesselmnist3d/test/Aneurysm/\"\n",
    ")\n",
    "PATH_TO_SAVE_MESH = \"/home/mvries/Documents/Datasets/MedMNIST/vesselmnist3d/test_mesh/Aneurysm/\"\n",
    "PATH_TO_SAVE_PC = \"/home/mvries/Documents/Datasets/MedMNIST/vesselmnist3d/test_pointcloud/Aneurysm/\"\n",
    "NUM_POINTS = 2048\n",
    "\n",
    "tif_to_pc_directory(\n",
    "    PATH_TO_TIF_FILES, PATH_TO_SAVE_MESH, PATH_TO_SAVE_PC, NUM_POINTS\n",
    ")"
   ]
  },
  {
   "cell_type": "code",
   "execution_count": 17,
   "metadata": {
    "pycharm": {
     "name": "#%%\n"
    }
   },
   "outputs": [
    {
     "name": "stderr",
     "output_type": "stream",
     "text": [
      "100%|████████████████████████████████████████| 339/339 [00:01<00:00, 246.45it/s]\n",
      "100%|████████████████████████████████████████| 339/339 [00:02<00:00, 155.35it/s]\n"
     ]
    }
   ],
   "source": [
    "import cellshape_helper as helper\n",
    "\n",
    "\n",
    "PATH_TO_TIF_FILES = (\n",
    "    \"/home/mvries/Documents/Datasets/MedMNIST/vesselmnist3d/test/Healthy/\"\n",
    ")\n",
    "PATH_TO_SAVE_MESH = (\n",
    "    \"/home/mvries/Documents/Datasets/MedMNIST/vesselmnist3d/test/Healthy_mesh/\"\n",
    ")\n",
    "PATH_TO_SAVE_PC = \"/home/mvries/Documents/Datasets/MedMNIST/vesselmnist3d/test/Healthy_pointcloud/\"\n",
    "NUM_POINTS = 2048\n",
    "\n",
    "helper.tif_to_pc_directory(\n",
    "    PATH_TO_TIF_FILES, PATH_TO_SAVE_MESH, PATH_TO_SAVE_PC, NUM_POINTS\n",
    ")"
   ]
  },
  {
   "cell_type": "code",
   "execution_count": 18,
   "metadata": {
    "pycharm": {
     "name": "#%%\n"
    }
   },
   "outputs": [
    {
     "name": "stderr",
     "output_type": "stream",
     "text": [
      "100%|██████████████████████████████████████| 1185/1185 [00:04<00:00, 259.95it/s]\n",
      "100%|██████████████████████████████████████| 1185/1185 [00:07<00:00, 160.91it/s]\n"
     ]
    }
   ],
   "source": [
    "PATH_TO_TIF_FILES = (\n",
    "    \"/home/mvries/Documents/Datasets/MedMNIST/vesselmnist3d/train/Healthy/\"\n",
    ")\n",
    "PATH_TO_SAVE_MESH = \"/home/mvries/Documents/Datasets/MedMNIST/vesselmnist3d/train/Healthy_mesh/\"\n",
    "PATH_TO_SAVE_PC = \"/home/mvries/Documents/Datasets/MedMNIST/vesselmnist3d/train/Healthy_pointcloud/\"\n",
    "NUM_POINTS = 2048\n",
    "\n",
    "tif_to_pc_directory(\n",
    "    PATH_TO_TIF_FILES, PATH_TO_SAVE_MESH, PATH_TO_SAVE_PC, NUM_POINTS\n",
    ")"
   ]
  },
  {
   "cell_type": "code",
   "execution_count": 19,
   "metadata": {},
   "outputs": [
    {
     "name": "stderr",
     "output_type": "stream",
     "text": [
      "100%|████████████████████████████████████████| 150/150 [00:00<00:00, 171.88it/s]\n",
      "100%|████████████████████████████████████████| 150/150 [00:01<00:00, 117.94it/s]\n"
     ]
    }
   ],
   "source": [
    "PATH_TO_TIF_FILES = (\n",
    "    \"/home/mvries/Documents/Datasets/MedMNIST/vesselmnist3d/train/Aneurysm/\"\n",
    ")\n",
    "PATH_TO_SAVE_MESH = \"/home/mvries/Documents/Datasets/MedMNIST/vesselmnist3d/train/Aneurysm_mesh/\"\n",
    "PATH_TO_SAVE_PC = \"/home/mvries/Documents/Datasets/MedMNIST/vesselmnist3d/train/Aneurysm_pointcloud/\"\n",
    "NUM_POINTS = 2048\n",
    "\n",
    "tif_to_pc_directory(\n",
    "    PATH_TO_TIF_FILES, PATH_TO_SAVE_MESH, PATH_TO_SAVE_PC, NUM_POINTS\n",
    ")"
   ]
  },
  {
   "cell_type": "code",
   "execution_count": 22,
   "metadata": {},
   "outputs": [
    {
     "name": "stderr",
     "output_type": "stream",
     "text": [
      "100%|████████████████████████████████████████| 170/170 [00:00<00:00, 213.08it/s]\n",
      "100%|████████████████████████████████████████| 169/169 [00:01<00:00, 125.85it/s]\n"
     ]
    }
   ],
   "source": [
    "PATH_TO_TIF_FILES = (\n",
    "    \"/home/mvries/Documents/Datasets/MedMNIST/vesselmnist3d/val/Healthy/\"\n",
    ")\n",
    "PATH_TO_SAVE_MESH = (\n",
    "    \"/home/mvries/Documents/Datasets/MedMNIST/vesselmnist3d/val/Healthy_mesh/\"\n",
    ")\n",
    "PATH_TO_SAVE_PC = \"/home/mvries/Documents/Datasets/MedMNIST/vesselmnist3d/val/Healthy_pointcloud/\"\n",
    "NUM_POINTS = 2048\n",
    "\n",
    "tif_to_pc_directory(\n",
    "    PATH_TO_TIF_FILES, PATH_TO_SAVE_MESH, PATH_TO_SAVE_PC, NUM_POINTS\n",
    ")"
   ]
  },
  {
   "cell_type": "code",
   "execution_count": 23,
   "metadata": {},
   "outputs": [
    {
     "name": "stderr",
     "output_type": "stream",
     "text": [
      "100%|██████████████████████████████████████████| 22/22 [00:00<00:00, 116.99it/s]\n",
      "100%|██████████████████████████████████████████| 22/22 [00:00<00:00, 124.49it/s]\n"
     ]
    }
   ],
   "source": [
    "PATH_TO_TIF_FILES = (\n",
    "    \"/home/mvries/Documents/Datasets/MedMNIST/vesselmnist3d/val/Aneurysm/\"\n",
    ")\n",
    "PATH_TO_SAVE_MESH = (\n",
    "    \"/home/mvries/Documents/Datasets/MedMNIST/vesselmnist3d/val/Aneurysm_mesh/\"\n",
    ")\n",
    "PATH_TO_SAVE_PC = \"/home/mvries/Documents/Datasets/MedMNIST/vesselmnist3d/val/Aneurysm_pointcloud/\"\n",
    "NUM_POINTS = 2048\n",
    "\n",
    "tif_to_pc_directory(\n",
    "    PATH_TO_TIF_FILES, PATH_TO_SAVE_MESH, PATH_TO_SAVE_PC, NUM_POINTS\n",
    ")"
   ]
  },
  {
   "cell_type": "code",
   "execution_count": null,
   "metadata": {},
   "outputs": [],
   "source": []
  }
 ],
 "metadata": {
  "kernelspec": {
   "display_name": "Python 3 (ipykernel)",
   "language": "python",
   "name": "python3"
  },
  "language_info": {
   "codemirror_mode": {
    "name": "ipython",
    "version": 3
   },
   "file_extension": ".py",
   "mimetype": "text/x-python",
   "name": "python",
   "nbconvert_exporter": "python",
   "pygments_lexer": "ipython3",
   "version": "3.8.13"
  }
 },
 "nbformat": 4,
 "nbformat_minor": 1
}
