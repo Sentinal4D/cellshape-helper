{
 "cells": [
  {
   "cell_type": "code",
   "execution_count": 12,
   "metadata": {
    "pycharm": {
     "name": "#%%\n"
    }
   },
   "outputs": [],
   "source": [
    "import cellshape_helper as helper\n",
    "import trimesh\n",
    "from cellshape_helper.vendor.pytorch_geometric_files import (\n",
    "    read_off,\n",
    "    sample_points,\n",
    ")\n",
    "from pyntcloud import PyntCloud\n",
    "import pandas as pd\n",
    "from tifffile import imread\n",
    "import trimesh\n",
    "from skimage.measure import marching_cubes\n",
    "from tqdm import tqdm\n",
    "from cellshape_helper.util import create_dir_if_not_exist\n",
    "from pathlib import Path\n",
    "\n",
    "\n",
    "PATH_TO_TIF_FILES = (\n",
    "    \"/home/mvries/Documents/Datasets/MedMNIST/vesselmnist3d/test/Aneurysm/\"\n",
    ")\n",
    "PATH_TO_SAVE_MESH = \"/home/mvries/Documents/Datasets/MedMNIST/vesselmnist3d/test/Aneurysm_mesh/\"\n",
    "PATH_TO_SAVE_MESH_smooth = \"/home/mvries/Documents/Datasets/MedMNIST/vesselmnist3d/test/Aneurysm_mesh_smoothed_4096/\"\n",
    "PATH_TO_SAVE_PC = \"/home/mvries/Documents/Datasets/MedMNIST/vesselmnist3d/test/Aneurysm_pointcloud_smoothed/\"\n",
    "NUM_POINTS = 2048\n",
    "\n",
    "\n",
    "def mesh_to_pc(mesh_directory, smoothed_dir, num_points, save_dir):\n",
    "    p = Path(mesh_directory)\n",
    "    files = list(p.glob(\"*.off\"))\n",
    "    failed_files = []\n",
    "    for mesh_file in tqdm(files):\n",
    "        try:\n",
    "            mesh_file_path = Path(mesh_file)\n",
    "\n",
    "            mesh = trimesh.load(mesh_file_path)\n",
    "            smoothed = trimesh.smoothing.filter_laplacian(mesh)\n",
    "\n",
    "            create_dir_if_not_exist(smoothed_dir)\n",
    "            smoothed.export(smoothed_dir + mesh_file_path.name)\n",
    "\n",
    "            data = read_off(smoothed_dir + mesh_file_path.name)\n",
    "            # changed to .numpy() to avoid issue with pyntcloud\n",
    "            points = sample_points(data=data, num=num_points).numpy()\n",
    "            save_to_points_path = save_dir\n",
    "            create_dir_if_not_exist(save_to_points_path)\n",
    "            # split_string = mesh_file_path.name.split(\".\")\n",
    "            # file_name = split_string[0]\n",
    "            file_name = mesh_file_path.name[:-4]\n",
    "            cloud = PyntCloud(\n",
    "                pd.DataFrame(data=points, columns=[\"x\", \"y\", \"z\"])\n",
    "            )\n",
    "            cloud.to_file(save_to_points_path + file_name + \".ply\")\n",
    "        except Exception as e:\n",
    "            print(e)\n",
    "            failed_files.append(mesh_file.name)\n",
    "            continue\n",
    "\n",
    "    return failed_files"
   ]
  },
  {
   "cell_type": "code",
   "execution_count": 13,
   "metadata": {},
   "outputs": [
    {
     "name": "stderr",
     "output_type": "stream",
     "text": [
      "100%|███████████████████████████████████████████| 43/43 [00:01<00:00, 23.07it/s]\n"
     ]
    },
    {
     "data": {
      "text/plain": [
       "[]"
      ]
     },
     "execution_count": 13,
     "metadata": {},
     "output_type": "execute_result"
    }
   ],
   "source": [
    "mesh_to_pc(PATH_TO_SAVE_MESH, PATH_TO_SAVE_MESH_smooth, 2048, PATH_TO_SAVE_PC)"
   ]
  },
  {
   "cell_type": "code",
   "execution_count": 15,
   "metadata": {},
   "outputs": [
    {
     "name": "stderr",
     "output_type": "stream",
     "text": [
      "100%|█████████████████████████████████████████| 339/339 [00:12<00:00, 27.23it/s]\n"
     ]
    },
    {
     "data": {
      "text/plain": [
       "[]"
      ]
     },
     "execution_count": 15,
     "metadata": {},
     "output_type": "execute_result"
    }
   ],
   "source": [
    "PATH_TO_SAVE_MESH = (\n",
    "    \"/home/mvries/Documents/Datasets/MedMNIST/vesselmnist3d/test/Healthy_mesh/\"\n",
    ")\n",
    "PATH_TO_SAVE_MESH_smooth = \"/home/mvries/Documents/Datasets/MedMNIST/vesselmnist3d/test/Healthy_mesh_smoothed/\"\n",
    "PATH_TO_SAVE_PC = \"/home/mvries/Documents/Datasets/MedMNIST/vesselmnist3d/test/Healthy_pointcloud_smoothed/\"\n",
    "NUM_POINTS = 2048\n",
    "\n",
    "mesh_to_pc(PATH_TO_SAVE_MESH, PATH_TO_SAVE_MESH_smooth, 2048, PATH_TO_SAVE_PC)"
   ]
  },
  {
   "cell_type": "code",
   "execution_count": 16,
   "metadata": {},
   "outputs": [
    {
     "name": "stderr",
     "output_type": "stream",
     "text": [
      "100%|█████████████████████████████████████████| 150/150 [00:06<00:00, 22.68it/s]\n"
     ]
    },
    {
     "data": {
      "text/plain": [
       "[]"
      ]
     },
     "execution_count": 16,
     "metadata": {},
     "output_type": "execute_result"
    }
   ],
   "source": [
    "PATH_TO_SAVE_MESH = \"/home/mvries/Documents/Datasets/MedMNIST/vesselmnist3d/train/Aneurysm_mesh/\"\n",
    "PATH_TO_SAVE_MESH_smooth = \"/home/mvries/Documents/Datasets/MedMNIST/vesselmnist3d/train/Aneurysm_mesh_smoothed/\"\n",
    "PATH_TO_SAVE_PC = \"/home/mvries/Documents/Datasets/MedMNIST/vesselmnist3d/train/Aneurysm_pointcloud_smoothed/\"\n",
    "NUM_POINTS = 2048\n",
    "mesh_to_pc(PATH_TO_SAVE_MESH, PATH_TO_SAVE_MESH_smooth, 2048, PATH_TO_SAVE_PC)"
   ]
  },
  {
   "cell_type": "code",
   "execution_count": 17,
   "metadata": {},
   "outputs": [
    {
     "name": "stderr",
     "output_type": "stream",
     "text": [
      "  4%|█▊                                       | 51/1185 [00:01<00:47, 23.93it/s]/home/mvries/anaconda3/envs/dcc/lib/python3.8/site-packages/trimesh/smoothing.py:83: RuntimeWarning: invalid value encountered in double_scalars\n",
      "  vertices *= ((vol_ini / vol_new) ** (1.0 / 3.0))\n",
      "  5%|██                                       | 61/1185 [00:02<00:34, 32.92it/s]"
     ]
    },
    {
     "name": "stdout",
     "output_type": "stream",
     "text": [
      "invalid multinomial distribution (encountering probability entry < 0)\n"
     ]
    },
    {
     "name": "stderr",
     "output_type": "stream",
     "text": [
      "100%|███████████████████████████████████████| 1185/1185 [00:38<00:00, 30.42it/s]\n"
     ]
    },
    {
     "data": {
      "text/plain": [
       "['00888.off']"
      ]
     },
     "execution_count": 17,
     "metadata": {},
     "output_type": "execute_result"
    }
   ],
   "source": [
    "PATH_TO_SAVE_MESH = \"/home/mvries/Documents/Datasets/MedMNIST/vesselmnist3d/train/Healthy_mesh/\"\n",
    "PATH_TO_SAVE_MESH_smooth = \"/home/mvries/Documents/Datasets/MedMNIST/vesselmnist3d/train/Healthy_mesh_smoothed/\"\n",
    "PATH_TO_SAVE_PC = \"/home/mvries/Documents/Datasets/MedMNIST/vesselmnist3d/train/Healthy_pointcloud_smoothed/\"\n",
    "NUM_POINTS = 2048\n",
    "\n",
    "mesh_to_pc(PATH_TO_SAVE_MESH, PATH_TO_SAVE_MESH_smooth, 2048, PATH_TO_SAVE_PC)"
   ]
  },
  {
   "cell_type": "code",
   "execution_count": 42,
   "metadata": {},
   "outputs": [],
   "source": [
    "path = (\n",
    "    \"/home/mvries/Documents/Datasets/OPM/SingleCellFromNathan_17122021/Plate2/\"\n",
    ")\n",
    "\n",
    "PATH_TO_TIF_FILES = path + \"stacked/\"\n",
    "PATH_TO_SAVE_MESH = path + \"stacked_off/raw/\"\n",
    "PATH_TO_SAVE_PC = path + \"stacked_pointcloud/\"\n",
    "NUM_POINTS = 2048\n",
    "\n",
    "\n",
    "def mesh_to_pc(mesh_directory, smoothed_dir, num_points, save_dir):\n",
    "    p = Path(mesh_directory)\n",
    "    files = list(p.glob(\"**/*.off\"))\n",
    "    failed_files = []\n",
    "    for mesh_file in tqdm(files[27687:]):\n",
    "        try:\n",
    "            treatment = str(mesh_file.parent).replace(str(mesh_directory), \"\")\n",
    "\n",
    "            mesh_file_path = Path(mesh_file)\n",
    "\n",
    "            mesh = trimesh.load(mesh_file_path)\n",
    "            smoothed = trimesh.smoothing.filter_laplacian(mesh)\n",
    "\n",
    "            create_dir_if_not_exist(smoothed_dir + treatment + \"/\")\n",
    "            smoothed.export(\n",
    "                smoothed_dir + treatment + \"/\" + mesh_file_path.name\n",
    "            )\n",
    "\n",
    "            data = read_off(\n",
    "                smoothed_dir + treatment + \"/\" + mesh_file_path.name\n",
    "            )\n",
    "            # changed to .numpy() to avoid issue with pyntcloud\n",
    "            points = sample_points(data=data, num=num_points).numpy()\n",
    "            save_to_points_path = save_dir\n",
    "            create_dir_if_not_exist(save_to_points_path + treatment + \"/\")\n",
    "            # split_string = mesh_file_path.name.split(\".\")\n",
    "            # file_name = split_string[0]\n",
    "            file_name = mesh_file_path.name[:-4]\n",
    "            cloud = PyntCloud(\n",
    "                pd.DataFrame(data=points, columns=[\"x\", \"y\", \"z\"])\n",
    "            )\n",
    "            cloud.to_file(\n",
    "                save_to_points_path + treatment + \"/\" + file_name + \".ply\"\n",
    "            )\n",
    "        except Exception as e:\n",
    "            print(e)\n",
    "            failed_files.append(mesh_file.name)\n",
    "            continue\n",
    "\n",
    "    return failed_files\n",
    "\n",
    "\n",
    "# mesh_to_pc(PATH_TO_SAVE_MESH, path + \"stacked_off_smoothed/\" , 2048, path + \"stacked_pointcloud_smoothed/\")"
   ]
  },
  {
   "cell_type": "code",
   "execution_count": 43,
   "metadata": {},
   "outputs": [
    {
     "name": "stderr",
     "output_type": "stream",
     "text": [
      " 18%|█▊        | 898/4910 [03:20<11:59,  5.58it/s]/home/mvries/anaconda3/envs/dcc/lib/python3.8/site-packages/trimesh/smoothing.py:83: RuntimeWarning: invalid value encountered in double_scalars\n",
      "  vertices *= ((vol_ini / vol_new) ** (1.0 / 3.0))\n",
      " 18%|█▊        | 901/4910 [03:20<09:05,  7.35it/s]"
     ]
    },
    {
     "name": "stdout",
     "output_type": "stream",
     "text": [
      "invalid multinomial distribution (encountering probability entry < 0)\n"
     ]
    },
    {
     "name": "stderr",
     "output_type": "stream",
     "text": [
      " 21%|██        | 1035/4910 [03:51<18:31,  3.49it/s]/home/mvries/anaconda3/envs/dcc/lib/python3.8/site-packages/trimesh/smoothing.py:83: RuntimeWarning: invalid value encountered in double_scalars\n",
      "  vertices *= ((vol_ini / vol_new) ** (1.0 / 3.0))\n",
      " 21%|██        | 1038/4910 [03:52<10:50,  5.96it/s]"
     ]
    },
    {
     "name": "stdout",
     "output_type": "stream",
     "text": [
      "invalid multinomial distribution (encountering probability entry < 0)\n"
     ]
    },
    {
     "name": "stderr",
     "output_type": "stream",
     "text": [
      " 25%|██▌       | 1248/4910 [04:42<17:06,  3.57it/s]/home/mvries/anaconda3/envs/dcc/lib/python3.8/site-packages/trimesh/smoothing.py:83: RuntimeWarning: invalid value encountered in double_scalars\n",
      "  vertices *= ((vol_ini / vol_new) ** (1.0 / 3.0))\n"
     ]
    },
    {
     "name": "stdout",
     "output_type": "stream",
     "text": [
      "invalid multinomial distribution (encountering probability entry < 0)\n"
     ]
    },
    {
     "name": "stderr",
     "output_type": "stream",
     "text": [
      " 27%|██▋       | 1324/4910 [04:58<12:15,  4.87it/s]/home/mvries/anaconda3/envs/dcc/lib/python3.8/site-packages/trimesh/smoothing.py:83: RuntimeWarning: invalid value encountered in double_scalars\n",
      "  vertices *= ((vol_ini / vol_new) ** (1.0 / 3.0))\n",
      " 27%|██▋       | 1326/4910 [04:58<10:41,  5.58it/s]"
     ]
    },
    {
     "name": "stdout",
     "output_type": "stream",
     "text": [
      "invalid multinomial distribution (encountering probability entry < 0)\n"
     ]
    },
    {
     "name": "stderr",
     "output_type": "stream",
     "text": [
      " 27%|██▋       | 1338/4910 [05:01<10:20,  5.76it/s]/home/mvries/anaconda3/envs/dcc/lib/python3.8/site-packages/trimesh/smoothing.py:83: RuntimeWarning: invalid value encountered in double_scalars\n",
      "  vertices *= ((vol_ini / vol_new) ** (1.0 / 3.0))\n"
     ]
    },
    {
     "name": "stdout",
     "output_type": "stream",
     "text": [
      "invalid multinomial distribution (encountering probability entry < 0)\n"
     ]
    },
    {
     "name": "stderr",
     "output_type": "stream",
     "text": [
      " 36%|███▌      | 1767/4910 [06:36<17:22,  3.01it/s]/home/mvries/anaconda3/envs/dcc/lib/python3.8/site-packages/trimesh/smoothing.py:83: RuntimeWarning: invalid value encountered in double_scalars\n",
      "  vertices *= ((vol_ini / vol_new) ** (1.0 / 3.0))\n",
      " 36%|███▌      | 1769/4910 [06:36<11:28,  4.57it/s]"
     ]
    },
    {
     "name": "stdout",
     "output_type": "stream",
     "text": [
      "invalid multinomial distribution (encountering probability entry < 0)\n"
     ]
    },
    {
     "name": "stderr",
     "output_type": "stream",
     "text": [
      " 37%|███▋      | 1826/4910 [06:49<08:52,  5.79it/s]/home/mvries/anaconda3/envs/dcc/lib/python3.8/site-packages/trimesh/smoothing.py:83: RuntimeWarning: invalid value encountered in double_scalars\n",
      "  vertices *= ((vol_ini / vol_new) ** (1.0 / 3.0))\n",
      " 37%|███▋      | 1828/4910 [06:50<06:54,  7.43it/s]"
     ]
    },
    {
     "name": "stdout",
     "output_type": "stream",
     "text": [
      "invalid multinomial distribution (encountering probability entry < 0)\n"
     ]
    },
    {
     "name": "stderr",
     "output_type": "stream",
     "text": [
      " 39%|███▉      | 1932/4910 [07:10<10:23,  4.77it/s]/home/mvries/anaconda3/envs/dcc/lib/python3.8/site-packages/trimesh/smoothing.py:83: RuntimeWarning: invalid value encountered in double_scalars\n",
      "  vertices *= ((vol_ini / vol_new) ** (1.0 / 3.0))\n",
      " 39%|███▉      | 1934/4910 [07:10<07:20,  6.76it/s]"
     ]
    },
    {
     "name": "stdout",
     "output_type": "stream",
     "text": [
      "invalid multinomial distribution (encountering probability entry < 0)\n"
     ]
    },
    {
     "name": "stderr",
     "output_type": "stream",
     "text": [
      " 49%|████▊     | 2385/4910 [08:42<09:55,  4.24it/s]/home/mvries/anaconda3/envs/dcc/lib/python3.8/site-packages/trimesh/smoothing.py:83: RuntimeWarning: invalid value encountered in double_scalars\n",
      "  vertices *= ((vol_ini / vol_new) ** (1.0 / 3.0))\n"
     ]
    },
    {
     "name": "stdout",
     "output_type": "stream",
     "text": [
      "invalid multinomial distribution (encountering probability entry < 0)\n"
     ]
    },
    {
     "name": "stderr",
     "output_type": "stream",
     "text": [
      " 53%|█████▎    | 2620/4910 [09:32<11:08,  3.43it/s]/home/mvries/anaconda3/envs/dcc/lib/python3.8/site-packages/trimesh/smoothing.py:83: RuntimeWarning: invalid value encountered in double_scalars\n",
      "  vertices *= ((vol_ini / vol_new) ** (1.0 / 3.0))\n",
      " 53%|█████▎    | 2622/4910 [09:32<08:07,  4.70it/s]"
     ]
    },
    {
     "name": "stdout",
     "output_type": "stream",
     "text": [
      "invalid multinomial distribution (encountering probability entry < 0)\n"
     ]
    },
    {
     "name": "stderr",
     "output_type": "stream",
     "text": [
      " 55%|█████▍    | 2695/4910 [09:47<07:00,  5.26it/s]/home/mvries/anaconda3/envs/dcc/lib/python3.8/site-packages/trimesh/smoothing.py:83: RuntimeWarning: invalid value encountered in double_scalars\n",
      "  vertices *= ((vol_ini / vol_new) ** (1.0 / 3.0))\n",
      " 55%|█████▍    | 2697/4910 [09:47<05:28,  6.73it/s]"
     ]
    },
    {
     "name": "stdout",
     "output_type": "stream",
     "text": [
      "invalid multinomial distribution (encountering probability entry < 0)\n"
     ]
    },
    {
     "name": "stderr",
     "output_type": "stream",
     "text": [
      " 72%|███████▏  | 3556/4910 [12:42<04:24,  5.12it/s]/home/mvries/anaconda3/envs/dcc/lib/python3.8/site-packages/trimesh/smoothing.py:83: RuntimeWarning: invalid value encountered in double_scalars\n",
      "  vertices *= ((vol_ini / vol_new) ** (1.0 / 3.0))\n",
      " 72%|███████▏  | 3558/4910 [12:42<03:00,  7.47it/s]"
     ]
    },
    {
     "name": "stdout",
     "output_type": "stream",
     "text": [
      "invalid multinomial distribution (encountering probability entry < 0)\n"
     ]
    },
    {
     "name": "stderr",
     "output_type": "stream",
     "text": [
      " 73%|███████▎  | 3578/4910 [12:46<03:53,  5.72it/s]/home/mvries/anaconda3/envs/dcc/lib/python3.8/site-packages/trimesh/smoothing.py:83: RuntimeWarning: invalid value encountered in double_scalars\n",
      "  vertices *= ((vol_ini / vol_new) ** (1.0 / 3.0))\n",
      " 73%|███████▎  | 3580/4910 [12:46<02:36,  8.49it/s]"
     ]
    },
    {
     "name": "stdout",
     "output_type": "stream",
     "text": [
      "invalid multinomial distribution (encountering probability entry < 0)\n"
     ]
    },
    {
     "name": "stderr",
     "output_type": "stream",
     "text": [
      " 74%|███████▍  | 3630/4910 [12:56<04:06,  5.19it/s]/home/mvries/anaconda3/envs/dcc/lib/python3.8/site-packages/trimesh/smoothing.py:83: RuntimeWarning: invalid value encountered in double_scalars\n",
      "  vertices *= ((vol_ini / vol_new) ** (1.0 / 3.0))\n",
      " 74%|███████▍  | 3632/4910 [12:57<03:17,  6.46it/s]"
     ]
    },
    {
     "name": "stdout",
     "output_type": "stream",
     "text": [
      "invalid multinomial distribution (encountering probability entry < 0)\n"
     ]
    },
    {
     "name": "stderr",
     "output_type": "stream",
     "text": [
      " 75%|███████▌  | 3705/4910 [13:13<05:28,  3.66it/s]/home/mvries/anaconda3/envs/dcc/lib/python3.8/site-packages/trimesh/smoothing.py:83: RuntimeWarning: invalid value encountered in double_scalars\n",
      "  vertices *= ((vol_ini / vol_new) ** (1.0 / 3.0))\n",
      " 75%|███████▌  | 3707/4910 [13:13<04:19,  4.63it/s]"
     ]
    },
    {
     "name": "stdout",
     "output_type": "stream",
     "text": [
      "invalid multinomial distribution (encountering probability entry < 0)\n"
     ]
    },
    {
     "name": "stderr",
     "output_type": "stream",
     "text": [
      " 77%|███████▋  | 3805/4910 [13:36<04:35,  4.02it/s]/home/mvries/anaconda3/envs/dcc/lib/python3.8/site-packages/trimesh/smoothing.py:83: RuntimeWarning: invalid value encountered in double_scalars\n",
      "  vertices *= ((vol_ini / vol_new) ** (1.0 / 3.0))\n",
      " 78%|███████▊  | 3808/4910 [13:36<02:46,  6.62it/s]"
     ]
    },
    {
     "name": "stdout",
     "output_type": "stream",
     "text": [
      "invalid multinomial distribution (encountering probability entry < 0)\n"
     ]
    },
    {
     "name": "stderr",
     "output_type": "stream",
     "text": [
      " 83%|████████▎ | 4072/4910 [14:33<02:50,  4.91it/s]/home/mvries/anaconda3/envs/dcc/lib/python3.8/site-packages/trimesh/smoothing.py:83: RuntimeWarning: invalid value encountered in double_scalars\n",
      "  vertices *= ((vol_ini / vol_new) ** (1.0 / 3.0))\n"
     ]
    },
    {
     "name": "stdout",
     "output_type": "stream",
     "text": [
      "invalid multinomial distribution (encountering probability entry < 0)\n"
     ]
    },
    {
     "name": "stderr",
     "output_type": "stream",
     "text": [
      " 83%|████████▎ | 4091/4910 [14:37<03:25,  3.99it/s]/home/mvries/anaconda3/envs/dcc/lib/python3.8/site-packages/trimesh/smoothing.py:83: RuntimeWarning: invalid value encountered in double_scalars\n",
      "  vertices *= ((vol_ini / vol_new) ** (1.0 / 3.0))\n",
      " 83%|████████▎ | 4094/4910 [14:37<01:55,  7.08it/s]"
     ]
    },
    {
     "name": "stdout",
     "output_type": "stream",
     "text": [
      "invalid multinomial distribution (encountering probability entry < 0)\n"
     ]
    },
    {
     "name": "stderr",
     "output_type": "stream",
     "text": [
      " 88%|████████▊ | 4333/4910 [15:26<01:47,  5.38it/s]/home/mvries/anaconda3/envs/dcc/lib/python3.8/site-packages/trimesh/smoothing.py:83: RuntimeWarning: invalid value encountered in double_scalars\n",
      "  vertices *= ((vol_ini / vol_new) ** (1.0 / 3.0))\n",
      " 88%|████████▊ | 4335/4910 [15:26<01:15,  7.57it/s]"
     ]
    },
    {
     "name": "stdout",
     "output_type": "stream",
     "text": [
      "invalid multinomial distribution (encountering probability entry < 0)\n"
     ]
    },
    {
     "name": "stderr",
     "output_type": "stream",
     "text": [
      " 89%|████████▉ | 4381/4910 [15:35<01:27,  6.04it/s]/home/mvries/anaconda3/envs/dcc/lib/python3.8/site-packages/trimesh/smoothing.py:83: RuntimeWarning: invalid value encountered in double_scalars\n",
      "  vertices *= ((vol_ini / vol_new) ** (1.0 / 3.0))\n"
     ]
    },
    {
     "name": "stdout",
     "output_type": "stream",
     "text": [
      "invalid multinomial distribution (encountering probability entry < 0)\n"
     ]
    },
    {
     "name": "stderr",
     "output_type": "stream",
     "text": [
      " 90%|████████▉ | 4418/4910 [15:43<02:08,  3.84it/s]/home/mvries/anaconda3/envs/dcc/lib/python3.8/site-packages/trimesh/smoothing.py:83: RuntimeWarning: invalid value encountered in double_scalars\n",
      "  vertices *= ((vol_ini / vol_new) ** (1.0 / 3.0))\n",
      " 90%|█████████ | 4422/4910 [15:44<01:10,  6.91it/s]"
     ]
    },
    {
     "name": "stdout",
     "output_type": "stream",
     "text": [
      "invalid multinomial distribution (encountering probability entry < 0)\n"
     ]
    },
    {
     "name": "stderr",
     "output_type": "stream",
     "text": [
      " 96%|█████████▌| 4691/4910 [16:39<00:39,  5.49it/s]/home/mvries/anaconda3/envs/dcc/lib/python3.8/site-packages/trimesh/smoothing.py:83: RuntimeWarning: invalid value encountered in double_scalars\n",
      "  vertices *= ((vol_ini / vol_new) ** (1.0 / 3.0))\n",
      " 96%|█████████▌| 4693/4910 [16:39<00:32,  6.63it/s]"
     ]
    },
    {
     "name": "stdout",
     "output_type": "stream",
     "text": [
      "invalid multinomial distribution (encountering probability entry < 0)\n"
     ]
    },
    {
     "name": "stderr",
     "output_type": "stream",
     "text": [
      " 99%|█████████▉| 4878/4910 [17:15<00:06,  4.91it/s]/home/mvries/anaconda3/envs/dcc/lib/python3.8/site-packages/trimesh/smoothing.py:83: RuntimeWarning: invalid value encountered in double_scalars\n",
      "  vertices *= ((vol_ini / vol_new) ** (1.0 / 3.0))\n"
     ]
    },
    {
     "name": "stdout",
     "output_type": "stream",
     "text": [
      "invalid multinomial distribution (encountering probability entry < 0)\n"
     ]
    },
    {
     "name": "stderr",
     "output_type": "stream",
     "text": [
      "100%|██████████| 4910/4910 [17:22<00:00,  4.71it/s]\n"
     ]
    },
    {
     "data": {
      "text/plain": [
       "['0054_0050_accelerator_20210315_bakal01_erk_main_21-03-15_12-37-27.off',\n",
       " '0128_0178_accelerator_20210315_bakal01_erk_main_21-03-15_12-37-27.off',\n",
       " '0054_0145_accelerator_20210315_bakal01_erk_main_21-03-15_12-37-27.off',\n",
       " '0129_0217_accelerator_20210315_bakal01_erk_main_21-03-15_12-37-27.off',\n",
       " '0128_0205_accelerator_20210315_bakal01_erk_main_21-03-15_12-37-27.off',\n",
       " '0140_0093_accelerator_20210315_bakal01_erk_main_21-03-15_12-37-27.off',\n",
       " '0021_0239_accelerator_20210315_bakal01_erk_main_21-03-15_12-37-27.off',\n",
       " '0140_0143_accelerator_20210315_bakal01_erk_main_21-03-15_12-37-27.off',\n",
       " '0042_0235_accelerator_20210315_bakal01_erk_main_21-03-15_12-37-27.off',\n",
       " '0042_0200_accelerator_20210315_bakal01_erk_main_21-03-15_12-37-27.off',\n",
       " '0042_0192_accelerator_20210315_bakal01_erk_main_21-03-15_12-37-27.off',\n",
       " '0100_0225_accelerator_20210315_bakal01_erk_main_21-03-15_12-37-27.off',\n",
       " '0080_0120_accelerator_20210315_bakal01_erk_main_21-03-15_12-37-27.off',\n",
       " '0019_0121_accelerator_20210315_bakal01_erk_main_21-03-15_12-37-27.off',\n",
       " '0020_0039_accelerator_20210315_bakal01_erk_main_21-03-15_12-37-27.off',\n",
       " '0080_0235_accelerator_20210315_bakal01_erk_main_21-03-15_12-37-27.off',\n",
       " '0080_0237_accelerator_20210315_bakal01_erk_main_21-03-15_12-37-27.off',\n",
       " '0100_0180_accelerator_20210315_bakal01_erk_main_21-03-15_12-37-27.off',\n",
       " '0079_0162_accelerator_20210315_bakal01_erk_main_21-03-15_12-37-27.off',\n",
       " '0100_0227_accelerator_20210315_bakal01_erk_main_21-03-15_12-37-27.off',\n",
       " '0042_0175_accelerator_20210315_bakal01_erk_main_21-03-15_12-37-27.off',\n",
       " '0041_0118_accelerator_20210315_bakal01_erk_main_21-03-15_12-37-27.off',\n",
       " '0139_0036_accelerator_20210315_bakal01_erk_main_21-03-15_12-37-27.off']"
      ]
     },
     "execution_count": 43,
     "metadata": {},
     "output_type": "execute_result"
    }
   ],
   "source": [
    "path = (\n",
    "    \"/home/mvries/Documents/Datasets/OPM/SingleCellFromNathan_17122021/Plate1/\"\n",
    ")\n",
    "\n",
    "PATH_TO_TIF_FILES = path + \"stacked/\"\n",
    "PATH_TO_SAVE_MESH = path + \"stacked_off/raw/\"\n",
    "PATH_TO_SAVE_PC = path + \"stacked_pointcloud/\"\n",
    "NUM_POINTS = 2048\n",
    "\n",
    "mesh_to_pc(\n",
    "    PATH_TO_SAVE_MESH,\n",
    "    path + \"stacked_off_smoothed/\",\n",
    "    2048,\n",
    "    path + \"stacked_pointcloud_smoothed/\",\n",
    ")"
   ]
  },
  {
   "cell_type": "code",
   "execution_count": 2,
   "metadata": {
    "pycharm": {
     "name": "#%%\n"
    }
   },
   "outputs": [
    {
     "name": "stderr",
     "output_type": "stream",
     "text": [
      "100%|██████████| 825/825 [00:50<00:00, 16.41it/s]\n",
      "100%|██████████| 825/825 [01:34<00:00,  8.72it/s]\n"
     ]
    }
   ],
   "source": [
    "import cellshape_helper as helper\n",
    "\n",
    "\n",
    "PATH_TO_TIF_FILES = (\n",
    "    \"/home/mvries/Documents/Datasets/ShapeAE_datasets/RedBloodCell/obj/\"\n",
    ")\n",
    "PATH_TO_SAVE_MESH = (\n",
    "    \"/home/mvries/Documents/Datasets/ShapeAE_datasets/RedBloodCell/mesh/\"\n",
    ")\n",
    "PATH_TO_SAVE_PC = \"/home/mvries/Documents/Datasets/ShapeAE_datasets/RedBloodCell/pointcloud_4096/\"\n",
    "NUM_POINTS = 4096\n",
    "\n",
    "helper.tif_to_pc_directory(\n",
    "    PATH_TO_TIF_FILES, PATH_TO_SAVE_MESH, PATH_TO_SAVE_PC, 4096\n",
    ")"
   ]
  },
  {
   "cell_type": "code",
   "execution_count": null,
   "metadata": {},
   "outputs": [],
   "source": []
  },
  {
   "cell_type": "code",
   "execution_count": null,
   "metadata": {
    "pycharm": {
     "name": "#%%\n"
    }
   },
   "outputs": [],
   "source": []
  }
 ],
 "metadata": {
  "kernelspec": {
   "display_name": "Python 3 (ipykernel)",
   "language": "python",
   "name": "python3"
  },
  "language_info": {
   "codemirror_mode": {
    "name": "ipython",
    "version": 3
   },
   "file_extension": ".py",
   "mimetype": "text/x-python",
   "name": "python",
   "nbconvert_exporter": "python",
   "pygments_lexer": "ipython3",
   "version": "3.8.13"
  }
 },
 "nbformat": 4,
 "nbformat_minor": 1
}
