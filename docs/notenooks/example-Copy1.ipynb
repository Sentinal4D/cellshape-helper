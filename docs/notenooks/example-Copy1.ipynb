{
 "cells": [
  {
   "cell_type": "code",
   "execution_count": 2,
   "metadata": {
    "pycharm": {
     "name": "#%%\n"
    }
   },
   "outputs": [
    {
     "name": "stderr",
     "output_type": "stream",
     "text": [
      "100%|██████████| 20642/20642 [1:22:12<00:00,  4.18it/s]\n",
      "100%|██████████| 20642/20642 [1:20:35<00:00,  4.27it/s]\n"
     ]
    }
   ],
   "source": [
    "import cellshape_helper as helper\n",
    "\n",
    "path = \"/run/user/1128299809/gvfs/smb-share:server=rds.icr.ac.uk,share=\" \\\n",
    "           \"data/DBI/DUDBI/DYNCESYS/mvries/Datasets/VickyPlates_010922/Plate1/\"\n",
    "\n",
    "PATH_TO_TIF_FILES = (\n",
    "    path + \"stacked/\"\n",
    ")\n",
    "PATH_TO_SAVE_MESH = path + \"stacked_off/\"\n",
    "PATH_TO_SAVE_PC = path + \"stacked_pointcloud/\"\n",
    "NUM_POINTS = 2048\n",
    "\n",
    "helper.tif_to_pc_directory(\n",
    "    PATH_TO_TIF_FILES, PATH_TO_SAVE_MESH, PATH_TO_SAVE_PC, NUM_POINTS\n",
    ")"
   ]
  },
  {
   "cell_type": "code",
   "execution_count": 2,
   "metadata": {
    "pycharm": {
     "name": "#%%\n"
    }
   },
   "outputs": [
    {
     "name": "stderr",
     "output_type": "stream",
     "text": [
      "100%|██████████| 825/825 [00:50<00:00, 16.41it/s]\n",
      "100%|██████████| 825/825 [01:34<00:00,  8.72it/s]\n"
     ]
    }
   ],
   "source": [
    "import cellshape_helper as helper\n",
    "\n",
    "\n",
    "PATH_TO_TIF_FILES = (\n",
    "    \"/home/mvries/Documents/Datasets/ShapeAE_datasets/RedBloodCell/obj/\"\n",
    ")\n",
    "PATH_TO_SAVE_MESH = \"/home/mvries/Documents/Datasets/ShapeAE_datasets/RedBloodCell/mesh/\"\n",
    "PATH_TO_SAVE_PC = \"/home/mvries/Documents/Datasets/ShapeAE_datasets/RedBloodCell/pointcloud_4096/\"\n",
    "NUM_POINTS = 4096\n",
    "\n",
    "helper.tif_to_pc_directory(PATH_TO_TIF_FILES, PATH_TO_SAVE_MESH, PATH_TO_SAVE_PC, 4096)"
   ]
  },
  {
   "cell_type": "code",
   "execution_count": null,
   "metadata": {
    "pycharm": {
     "name": "#%%\n"
    }
   },
   "outputs": [],
   "source": []
  }
 ],
 "metadata": {
  "kernelspec": {
   "display_name": "Python 3",
   "language": "python",
   "name": "python3"
  },
  "language_info": {
   "codemirror_mode": {
    "name": "ipython",
    "version": 3
   },
   "file_extension": ".py",
   "mimetype": "text/x-python",
   "name": "python",
   "nbconvert_exporter": "python",
   "pygments_lexer": "ipython3",
   "version": "3.8.2"
  }
 },
 "nbformat": 4,
 "nbformat_minor": 1
}
