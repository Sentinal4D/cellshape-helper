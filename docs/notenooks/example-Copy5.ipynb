{
 "cells": [
  {
   "cell_type": "code",
   "execution_count": 1,
   "metadata": {
    "pycharm": {
     "name": "#%%\n"
    }
   },
   "outputs": [],
   "source": [
    "from cellshape_helper.vendor.pytorch_geometric_files import (\n",
    "    read_off,\n",
    "    sample_points,\n",
    ")\n",
    "from pyntcloud import PyntCloud\n",
    "import pandas as pd\n",
    "from tifffile import imread\n",
    "import trimesh\n",
    "from skimage.measure import marching_cubes\n",
    "from tqdm import tqdm\n",
    "from cellshape_helper.util import create_dir_if_not_exist\n",
    "from pathlib import Path"
   ]
  },
  {
   "cell_type": "code",
   "execution_count": 6,
   "metadata": {},
   "outputs": [],
   "source": [
    "path = Path(\"/home/mvries/Documents/Datasets/IntrA/generated\")\n",
    "\n",
    "for folder in path.iterdir():\n",
    "    for file in (folder / \"obj\").iterdir():\n",
    "        if \"obj\" in file.name:\n",
    "            mesh = trimesh.exchange.load.load(file)\n",
    "            mesh.export(folder / \"off\" / str(file.name[:-4] + \".off\"))"
   ]
  },
  {
   "cell_type": "code",
   "execution_count": 2,
   "metadata": {},
   "outputs": [
    {
     "name": "stderr",
     "output_type": "stream",
     "text": [
      "  0%|                                                     | 0/1 [00:00<?, ?it/s]\n"
     ]
    },
    {
     "ename": "AssertionError",
     "evalue": "",
     "output_type": "error",
     "traceback": [
      "\u001b[0;31m---------------------------------------------------------------------------\u001b[0m",
      "\u001b[0;31mAssertionError\u001b[0m                            Traceback (most recent call last)",
      "Cell \u001b[0;32mIn [2], line 28\u001b[0m\n\u001b[1;32m     25\u001b[0m PATH_TO_SAVE_PC \u001b[38;5;241m=\u001b[39m \u001b[38;5;124m\"\u001b[39m\u001b[38;5;124m/home/mvries/Documents/tree_pc4096/\u001b[39m\u001b[38;5;124m\"\u001b[39m\n\u001b[1;32m     26\u001b[0m NUM_POINTS \u001b[38;5;241m=\u001b[39m \u001b[38;5;241m4096\u001b[39m\n\u001b[0;32m---> 28\u001b[0m \u001b[43mmesh_to_pc\u001b[49m\u001b[43m(\u001b[49m\n\u001b[1;32m     29\u001b[0m \u001b[43m    \u001b[49m\u001b[43mPATH_TO_SAVE_MESH\u001b[49m\u001b[43m,\u001b[49m\u001b[43m \u001b[49m\u001b[43mNUM_POINTS\u001b[49m\u001b[43m,\u001b[49m\u001b[43m \u001b[49m\u001b[43mPATH_TO_SAVE_PC\u001b[49m\n\u001b[1;32m     30\u001b[0m \u001b[43m)\u001b[49m\n",
      "Cell \u001b[0;32mIn [2], line 8\u001b[0m, in \u001b[0;36mmesh_to_pc\u001b[0;34m(mesh_directory, num_points, save_dir)\u001b[0m\n\u001b[1;32m      6\u001b[0m data \u001b[38;5;241m=\u001b[39m read_off(mesh_file)\n\u001b[1;32m      7\u001b[0m \u001b[38;5;66;03m# changed to .numpy() to avoid issue with pyntcloud\u001b[39;00m\n\u001b[0;32m----> 8\u001b[0m points \u001b[38;5;241m=\u001b[39m \u001b[43msample_points\u001b[49m\u001b[43m(\u001b[49m\u001b[43mdata\u001b[49m\u001b[38;5;241;43m=\u001b[39;49m\u001b[43mdata\u001b[49m\u001b[43m,\u001b[49m\u001b[43m \u001b[49m\u001b[43mnum\u001b[49m\u001b[38;5;241;43m=\u001b[39;49m\u001b[43mnum_points\u001b[49m\u001b[43m)\u001b[49m\u001b[38;5;241m.\u001b[39mnumpy()\n\u001b[1;32m      9\u001b[0m save_to_points_path \u001b[38;5;241m=\u001b[39m save_dir\n\u001b[1;32m     10\u001b[0m create_dir_if_not_exist(save_to_points_path)\n",
      "File \u001b[0;32m~/Documents/GitHub/cellshape-helper/cellshape_helper/vendor/pytorch_geometric_files.py:60\u001b[0m, in \u001b[0;36msample_points\u001b[0;34m(data, num)\u001b[0m\n\u001b[1;32m     58\u001b[0m \u001b[38;5;28;01mdef\u001b[39;00m \u001b[38;5;21msample_points\u001b[39m(data, num):\n\u001b[1;32m     59\u001b[0m     pos, face \u001b[38;5;241m=\u001b[39m data[\u001b[38;5;124m\"\u001b[39m\u001b[38;5;124mpos\u001b[39m\u001b[38;5;124m\"\u001b[39m], data[\u001b[38;5;124m\"\u001b[39m\u001b[38;5;124mface\u001b[39m\u001b[38;5;124m\"\u001b[39m]\n\u001b[0;32m---> 60\u001b[0m     \u001b[38;5;28;01massert\u001b[39;00m pos\u001b[38;5;241m.\u001b[39msize(\u001b[38;5;241m1\u001b[39m) \u001b[38;5;241m==\u001b[39m \u001b[38;5;241m3\u001b[39m \u001b[38;5;129;01mand\u001b[39;00m face\u001b[38;5;241m.\u001b[39msize(\u001b[38;5;241m0\u001b[39m) \u001b[38;5;241m==\u001b[39m \u001b[38;5;241m3\u001b[39m\n\u001b[1;32m     62\u001b[0m     pos_max \u001b[38;5;241m=\u001b[39m pos\u001b[38;5;241m.\u001b[39mabs()\u001b[38;5;241m.\u001b[39mmax()\n\u001b[1;32m     63\u001b[0m     pos \u001b[38;5;241m=\u001b[39m pos \u001b[38;5;241m/\u001b[39m pos_max\n",
      "\u001b[0;31mAssertionError\u001b[0m: "
     ]
    }
   ],
   "source": [
    "def mesh_to_pc(mesh_directory, num_points, save_dir):\n",
    "    p = Path(mesh_directory)\n",
    "    files = list(p.glob(\"*.off\"))\n",
    "    for mesh_file in tqdm(files):\n",
    "        mesh_file_path = Path(mesh_file)\n",
    "        data = read_off(mesh_file)\n",
    "        # changed to .numpy() to avoid issue with pyntcloud\n",
    "        points = sample_points(data=data, num=num_points).numpy()\n",
    "        save_to_points_path = save_dir\n",
    "        create_dir_if_not_exist(save_to_points_path)\n",
    "        # split_string = mesh_file_path.name.split(\".\")\n",
    "        # file_name = split_string[0]\n",
    "        file_name = mesh_file_path.name[:-4]\n",
    "        cloud = PyntCloud(pd.DataFrame(data=points, columns=[\"x\", \"y\", \"z\"]))\n",
    "        cloud.to_file(save_to_points_path + file_name + \".ply\")\n",
    "\n",
    "\n",
    "def tif_to_pc_directory(tif_directory, save_mesh, save_points, num_points):\n",
    "    tif_to_mesh(tif_directory, save_mesh)\n",
    "    mesh_to_pc(save_mesh, num_points, save_points)\n",
    "\n",
    "\n",
    "PATH_TO_SAVE_MESH = \"/home/mvries/Documents/tree/\"\n",
    "PATH_TO_SAVE_PC = \"/home/mvries/Documents/tree_pc4096/\"\n",
    "NUM_POINTS = 4096\n",
    "\n",
    "mesh_to_pc(PATH_TO_SAVE_MESH, NUM_POINTS, PATH_TO_SAVE_PC)"
   ]
  },
  {
   "cell_type": "code",
   "execution_count": 8,
   "metadata": {},
   "outputs": [
    {
     "name": "stderr",
     "output_type": "stream",
     "text": [
      "100%|█████████████████████████████████████████| 215/215 [00:02<00:00, 78.69it/s]\n"
     ]
    }
   ],
   "source": [
    "PATH_TO_SAVE_MESH = (\n",
    "    \"/home/mvries/Documents/Datasets/IntrA/generated/aneurysm/off/\"\n",
    ")\n",
    "PATH_TO_SAVE_PC = (\n",
    "    \"/home/mvries/Documents/Datasets/IntrA/generated/aneurysm/pointcloud/\"\n",
    ")\n",
    "NUM_POINTS = 2048\n",
    "\n",
    "mesh_to_pc(PATH_TO_SAVE_MESH, NUM_POINTS, PATH_TO_SAVE_PC)"
   ]
  },
  {
   "cell_type": "code",
   "execution_count": null,
   "metadata": {},
   "outputs": [],
   "source": []
  }
 ],
 "metadata": {
  "kernelspec": {
   "display_name": "Python 3 (ipykernel)",
   "language": "python",
   "name": "python3"
  },
  "language_info": {
   "codemirror_mode": {
    "name": "ipython",
    "version": 3
   },
   "file_extension": ".py",
   "mimetype": "text/x-python",
   "name": "python",
   "nbconvert_exporter": "python",
   "pygments_lexer": "ipython3",
   "version": "3.8.13"
  }
 },
 "nbformat": 4,
 "nbformat_minor": 1
}
